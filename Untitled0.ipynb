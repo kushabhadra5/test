{
  "nbformat": 4,
  "nbformat_minor": 0,
  "metadata": {
    "colab": {
      "provenance": []
    },
    "kernelspec": {
      "name": "python3",
      "display_name": "Python 3"
    },
    "language_info": {
      "name": "python"
    }
  },
  "cells": [
    {
      "cell_type": "markdown",
      "source": [
        "Q.1."
      ],
      "metadata": {
        "id": "spuI8KkIYa_s"
      }
    },
    {
      "cell_type": "code",
      "execution_count": 1,
      "metadata": {
        "id": "IU0vm0gAK_TF"
      },
      "outputs": [],
      "source": [
        "def rotate_matrix(input_matrix):\n",
        "  rows = cloumns = len(input_matrix)\n",
        "  new_matrix =\n",
        "\n",
        "  if rows%2==0:\n",
        "    for i in range(rows):\n",
        "      for j in range(columns):\n",
        "        if j<columns-1:\n",
        "          new_matrix[i][j] = input_matrix[i][j+i]\n",
        "\n",
        "        else:\n",
        "          new_matrix[i][j] = input_matrix[i+1][j]\n",
        "\n",
        "    return new_matrix"
      ]
    },
    {
      "cell_type": "markdown",
      "source": [
        "Q.2"
      ],
      "metadata": {
        "id": "8bR9_oFZYEhp"
      }
    },
    {
      "cell_type": "code",
      "source": [
        "from pandas.io.formats.printing import Dict\n",
        "import pandas as pd\n",
        "import re\n",
        "\n",
        "def structured_data(file_link):\n",
        "  new_file = \"/content/pokemon.xlsx\"\n",
        "  dowload_file = (pd.read_json(file_link)).T\n",
        "  new_dataframe = pd.DataFrame(data = None)\n",
        "  for i in range(len(dowload_file.columns)):\n",
        "    data = str(dowload_file[[i]])\n",
        "    data = re.findall(\"\\w+\", data)\n",
        "    new_dataframe['id'] = data[1]\n",
        "    new_dataframe['num'] = data[3]\n",
        "    new_dataframe['name'] = data[5]\n",
        "\n",
        "    with open(new_file, 'a') as file:\n",
        "      file.writelines(str(dowload_file[[i]]))"
      ],
      "metadata": {
        "id": "3ORx6wBRPIKg"
      },
      "execution_count": 73,
      "outputs": []
    },
    {
      "cell_type": "markdown",
      "source": [
        "Q.3."
      ],
      "metadata": {
        "id": "cEhE6YPaeVrJ"
      }
    },
    {
      "cell_type": "code",
      "source": [
        "import re\n",
        "\n",
        "def count_number_vnpa(text):\n",
        "\n",
        "    #pattern for speech\n",
        "    verb_format = r'\\b[A-Za-z]+\\b'\n",
        "    noun_format = r'\\b[A-Za-z]+\\b'\n",
        "    pronoun_format = r'\\b[A-Za-z]+\\b'\n",
        "    adjective_format = r'\\b[A-Za-z]+\\b'\n",
        "\n",
        "    #Dict values for speech\n",
        "    counts = {\n",
        "        'verbs': 0,\n",
        "        'nouns': 0,\n",
        "        'pronouns': 0,\n",
        "        'adjectives': 0\n",
        "    }\n",
        "\n",
        "    return counts"
      ],
      "metadata": {
        "id": "F9eKuWhZddGW"
      },
      "execution_count": 76,
      "outputs": []
    },
    {
      "cell_type": "code",
      "source": [],
      "metadata": {
        "id": "rskrGeeaeLbL"
      },
      "execution_count": null,
      "outputs": []
    }
  ]
}